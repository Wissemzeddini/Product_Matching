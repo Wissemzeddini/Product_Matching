{
 "cells": [
  {
   "cell_type": "code",
   "execution_count": 1,
   "id": "controlling-description",
   "metadata": {},
   "outputs": [],
   "source": [
    "import mysql.connector\n",
    "from datetime import datetime"
   ]
  },
  {
   "cell_type": "code",
   "execution_count": 2,
   "id": "automatic-result",
   "metadata": {},
   "outputs": [],
   "source": [
    "mydb = mysql.connector.connect(\n",
    "  host=\"localhost\",\n",
    "  user=\"root\",\n",
    "  password=\"\",\n",
    "  database=\"scraping_data\"\n",
    ")"
   ]
  },
  {
   "cell_type": "code",
   "execution_count": 3,
   "id": "romantic-junction",
   "metadata": {},
   "outputs": [],
   "source": [
    "#mydb.close()"
   ]
  },
  {
   "cell_type": "code",
   "execution_count": 4,
   "id": "twenty-davis",
   "metadata": {},
   "outputs": [],
   "source": [
    "#suppliers Add\n",
    "def create_suppliers():\n",
    "    mycursor = mydb.cursor()\n",
    "    now = datetime.now()\n",
    "    suppliers_list=[{'name':'Mytek', 'code':'None', 'uri':'https://www.mytek.tn/','logo_link':'https://mk-static.mytek.tn/static/version1617227958/frontend/Sm/topmart/fr_FR/images/logo.svg'},\n",
    "                    {'name':'Tunisianet','code':'None','uri':'https://www.tunisianet.com.tn/','logo_link':'https://www.tunisianet.com.tn/img/tunisianet-logo-1611064619.jpg'},\n",
    "                    {'name':'Wiki','code':'None','uri':'https://www.wiki.tn/','logo_link':'https://www.wiki.tn/img/logo.jpg'},\n",
    "                    {'name':'SBS Informatique','code':'None','uri':'https://www.sbsinformatique.com/accueil/pc-sur-mesure-tunisie.html','logo_link':'https://www.sbsinformatique.com/img/prestashop-logo-1585766163.jpg'},\n",
    "                    {'name':'iTech Store','code':'None','uri':'https://www.itechstore.tn/','logo_link':'https://www.itechstore.tn/img/itech-store-logo-1545673222.jpg'},\n",
    "                    {'name':'Scoop','code':'None','uri':'https://www.scoop.com.tn/','logo_link':'https://www.scoop.com.tn/img/sp-g3shop-logo-1591977520.jpg'},\n",
    "                    {'name':'Zoom','code':'None','uri':'https://www.zoom.com.tn/','logo_link':'https://www.zoom.com.tn/img/zoom-informatique-logo-1503561020.jpg'},\n",
    "                    {'name':'Space Net','code':'None','uri':'https://spacenet.tn/','logo_link':'https://spacenet.tn/img/spacenet-b2c-logo-1602842200.jpg'},\n",
    "                    {'name':'Alarabia','code':'None','uri':'https://www.alarabia.com.tn/','logo_link':'https://www.alarabia.com.tn/img/alarabia-informatique-logo-1614964355.jpg'},\n",
    "                    {'name':'Best Buy','code':'None','uri':'https://bestbuytunisie.com/','logo_link':'https://bestbuytunisie.com/wp-content/uploads/2021/02/cropped-logo-best-buy-Tunisie.png'}]\n",
    "    for l in suppliers_list:\n",
    "        sql = \"INSERT INTO suppliers (name, code, uri, logo_link, created_at, updated_at) VALUES (%s, %s, %s, %s, %s, %s)\"\n",
    "        val = (l['name'], l['code'], l['uri'], l['logo_link'], now, now)\n",
    "        mycursor.execute(sql, val)\n",
    "        mydb.commit()"
   ]
  },
  {
   "cell_type": "code",
   "execution_count": 5,
   "id": "agricultural-fellowship",
   "metadata": {},
   "outputs": [],
   "source": [
    "#brand Add\n",
    "def brandAdd(name, logo, supId):\n",
    "    mycursor = mydb.cursor()\n",
    "    now = datetime.now()\n",
    "    query=\"\"\"SELECT * FROM supplier_brands where name=%s and supplier_id=%s\"\"\"\n",
    "    value=(name, supId)\n",
    "    mycursor.execute(query, value)\n",
    "    results = mycursor.fetchall()\n",
    "    if(mycursor.rowcount == 0):\n",
    "        sql = \"INSERT INTO supplier_brands (name, logo_location, supplier_id, created_at, updated_at) VALUES (%s, %s, %s, %s, %s)\"\n",
    "        val = (name, logo, supId, now, now)\n",
    "        mycursor.execute(sql, val)\n",
    "        mydb.commit()\n",
    "        #print('ok')\n",
    "        mycursor.close()"
   ]
  },
  {
   "cell_type": "code",
   "execution_count": 6,
   "id": "included-conservative",
   "metadata": {},
   "outputs": [],
   "source": [
    "def getBrandId(name, supId):\n",
    "    brandId=0\n",
    "    mycursor = mydb.cursor()\n",
    "    query=\"\"\"SELECT * FROM supplier_brands where name=%s and supplier_id=%s\"\"\"\n",
    "    value=(name, supId)\n",
    "    mycursor.execute(query, value)\n",
    "    results = mycursor.fetchall()\n",
    "    for res in results:\n",
    "        brandId=res[0]\n",
    "    return brandId"
   ]
  },
  {
   "cell_type": "code",
   "execution_count": 7,
   "id": "offshore-persian",
   "metadata": {},
   "outputs": [],
   "source": [
    "#categorie Add\n",
    "def categorieAdd(name, uri, supId):\n",
    "    mycursor = mydb.cursor()\n",
    "    now = datetime.now()\n",
    "    sql = \"INSERT INTO supplier_categories (name, uri, supplier_id, created_at, updated_at) VALUES (%s, %s, %s, %s, %s)\"\n",
    "    val = (name, uri, supId, now, now)\n",
    "    try:\n",
    "        mycursor.execute(sql, val)\n",
    "        mydb.commit()\n",
    "        #print('ok')\n",
    "    except:\n",
    "        print('Data Base Categorie Duplication Error\\n')\n",
    "    mycursor.close()"
   ]
  },
  {
   "cell_type": "code",
   "execution_count": 8,
   "id": "posted-mercy",
   "metadata": {},
   "outputs": [],
   "source": [
    "#get categorie id\n",
    "def  getCagId(categ,supId):\n",
    "    cagId=0\n",
    "    mycursor = mydb.cursor()\n",
    "    query=\"\"\"SELECT * FROM supplier_categories where name=%s and supplier_id=%s\"\"\"\n",
    "    value=(categ, supId)\n",
    "    mycursor.execute(query, value)\n",
    "    results = mycursor.fetchall()\n",
    "    for res in results:\n",
    "        cagId=res[0]\n",
    "    mycursor.close()\n",
    "    return cagId"
   ]
  },
  {
   "cell_type": "code",
   "execution_count": 9,
   "id": "bored-pottery",
   "metadata": {},
   "outputs": [],
   "source": [
    "#product Add\n",
    "def AddProduct(name, uri, sku, des, price, availability, supId, supBrandId, supCatId, img):\n",
    "    mycursor = mydb.cursor()\n",
    "    now = datetime.now()\n",
    "    productId=0\n",
    "    sql = \"INSERT INTO supplier_products (name, uri, sku, description, price, availability, supplier_id, supplier_brand_id, supplier_category_id, created_at, updated_at, img) VALUES (%s, %s, %s, %s, %s, %s, %s, %s, %s, %s, %s, %s)\"\n",
    "    val = (name, uri, sku, des, price, availability, supId, supBrandId, supCatId, now, now ,img)\n",
    "    try:\n",
    "        mycursor.execute(sql, val)\n",
    "        mydb.commit()\n",
    "    except:\n",
    "        print('Product Duplicate Error')\n",
    "    query=\"\"\"SELECT * FROM supplier_products where name=%s and sku=%s and supplier_id=%s\"\"\"\n",
    "    value=(name, sku, supId)\n",
    "    mycursor.execute(query, value)\n",
    "    results = mycursor.fetchall()\n",
    "    for res in results:\n",
    "        productId=res[0]\n",
    "    mycursor.close()\n",
    "    return productId"
   ]
  },
  {
   "cell_type": "code",
   "execution_count": 10,
   "id": "fitting-fabric",
   "metadata": {},
   "outputs": [],
   "source": [
    "#add product localstore\n",
    "def Addlocalstors(localstore, supId):\n",
    "    mycursor = mydb.cursor()\n",
    "    now = datetime.now()\n",
    "    if(localstore):\n",
    "        for l in localstore:\n",
    "            query=\"\"\"SELECT * FROM localstores where name=%s and supplier_id=%s\"\"\"\n",
    "            value=(l['magasin'], supId)\n",
    "            mycursor.execute(query, value)\n",
    "            results = mycursor.fetchall()\n",
    "            #print(mycursor.rowcount)\n",
    "            if(mycursor.rowcount == 0):\n",
    "                sql = \"INSERT INTO localstores (name, supplier_id, created_at, updated_at) VALUES (%s, %s, %s, %s)\"\n",
    "                val = (l['magasin'], supId, now, now)\n",
    "                mycursor.execute(sql, val)\n",
    "                mydb.commit()\n",
    "                #print(ok)\n",
    "    #mycursor.close()"
   ]
  },
  {
   "cell_type": "code",
   "execution_count": 11,
   "id": "embedded-intervention",
   "metadata": {},
   "outputs": [],
   "source": [
    "#add local store product\n",
    "def getLocalstoreId(magasin, supId):\n",
    "    localstoreId=False\n",
    "    mycursor = mydb.cursor()\n",
    "    query=\"\"\"SELECT * FROM localstores where name=%s and supplier_id=%s\"\"\"\n",
    "    value=(magasin, supId)\n",
    "    mycursor.execute(query, value)\n",
    "    results = mycursor.fetchall()\n",
    "    if(mycursor.rowcount > 0):\n",
    "        for res in results:\n",
    "            localstoreId=res[0]\n",
    "    #mycursor.close()\n",
    "    return localstoreId"
   ]
  },
  {
   "cell_type": "code",
   "execution_count": 12,
   "id": "radio-specialist",
   "metadata": {},
   "outputs": [],
   "source": [
    "def AddLocalStoreProduct(localstore, price, prodId, supId):\n",
    "    mycursor = mydb.cursor()\n",
    "    now = datetime.now()\n",
    "    localstoreId=0\n",
    "    if(localstore):\n",
    "        for l in localstore:\n",
    "            localstoreId=getLocalstoreId(l['magasin'], supId)\n",
    "            sql = \"INSERT INTO localstore_products (price, availability, localstore_id, supplier_product_id, created_at, updated_at) VALUES (%s, %s, %s, %s, %s, %s)\"\n",
    "            val = (price, l['status'], localstoreId, prodId, now, now)\n",
    "            try:\n",
    "                mycursor.execute(sql, val)\n",
    "                mydb.commit()\n",
    "                #print('ok')\n",
    "            except:\n",
    "                print('localstore product Add fails')\n",
    "    #mycursor.close()"
   ]
  },
  {
   "cell_type": "code",
   "execution_count": 13,
   "id": "protecting-diana",
   "metadata": {},
   "outputs": [],
   "source": [
    "def AddProductAttribut(fich_tech, prodId):\n",
    "    mycursor = mydb.cursor()\n",
    "    now = datetime.now()\n",
    "    if(fich_tech):\n",
    "        for f in fich_tech:\n",
    "            sql = \"INSERT INTO supplier_product_attributes (name, value, supplier_product_id, created_at, updated_at) VALUES (%s, %s, %s, %s, %s)\"\n",
    "            val = (f['label'], f['data'], prodId, now, now)\n",
    "            try:\n",
    "                mycursor.execute(sql, val)\n",
    "                mydb.commit()\n",
    "                #print('ok')\n",
    "            except:\n",
    "                print('Add Product Attribut Fails')\n",
    "    #mycursor.close()    "
   ]
  },
  {
   "cell_type": "code",
   "execution_count": null,
   "id": "covered-denial",
   "metadata": {},
   "outputs": [],
   "source": []
  },
  {
   "cell_type": "code",
   "execution_count": null,
   "id": "growing-resident",
   "metadata": {},
   "outputs": [],
   "source": []
  }
 ],
 "metadata": {
  "kernelspec": {
   "display_name": "Python 3",
   "language": "python",
   "name": "python3"
  },
  "language_info": {
   "codemirror_mode": {
    "name": "ipython",
    "version": 3
   },
   "file_extension": ".py",
   "mimetype": "text/x-python",
   "name": "python",
   "nbconvert_exporter": "python",
   "pygments_lexer": "ipython3",
   "version": "3.7.4"
  }
 },
 "nbformat": 4,
 "nbformat_minor": 5
}
