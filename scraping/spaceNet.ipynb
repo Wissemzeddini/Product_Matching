{
 "cells": [
  {
   "cell_type": "code",
   "execution_count": 12,
   "id": "radical-concord",
   "metadata": {},
   "outputs": [],
   "source": [
    "import requests\n",
    "import cv2\n",
    "import pandas as pd\n",
    "import csv\n",
    "from bs4 import BeautifulSoup\n",
    "import unicodedata\n",
    "import mysql.connector\n",
    "import ipynb\n",
    "from ipynb.fs.full.SqlQuery import brandAdd\n",
    "from ipynb.fs.full.SqlQuery import categorieAdd\n",
    "from ipynb.fs.full.SqlQuery import AddProduct\n",
    "from ipynb.fs.full.SqlQuery import getCagId\n",
    "from ipynb.fs.full.SqlQuery import getBrandId"
   ]
  },
  {
   "cell_type": "code",
   "execution_count": 13,
   "id": "english-venice",
   "metadata": {},
   "outputs": [],
   "source": [
    "mydb = mysql.connector.connect(\n",
    "  host=\"localhost\",\n",
    "  user=\"root\",\n",
    "  password=\"\",\n",
    "  database=\"scraping_data\"\n",
    ")"
   ]
  },
  {
   "cell_type": "code",
   "execution_count": 14,
   "id": "acknowledged-control",
   "metadata": {},
   "outputs": [],
   "source": [
    "def spacenet_links():\n",
    "    list=[]\n",
    "    web = requests.get('https://spacenet.tn/')\n",
    "    parse = BeautifulSoup(web.content, 'html.parser')\n",
    "    head= parse.find_all('div', class_='title title_font')\n",
    "    for h in head:\n",
    "        try:\n",
    "            info= h.find('a').text.strip()\n",
    "            link= h.find('a').get('href')\n",
    "        except:\n",
    "            info= 'None'\n",
    "            link='None'\n",
    "        if(info != 'None' ):\n",
    "            space_dict={\n",
    "                'info':info,\n",
    "                'link':link\n",
    "            }\n",
    "            list.append(space_dict)\n",
    "    return list"
   ]
  },
  {
   "cell_type": "code",
   "execution_count": 15,
   "id": "native-header",
   "metadata": {},
   "outputs": [],
   "source": [
    "def priceConv(price):\n",
    "    c=''\n",
    "    for p in price:\n",
    "        if(p.isdigit()):\n",
    "            c=c+p\n",
    "    return int(c)"
   ]
  },
  {
   "cell_type": "code",
   "execution_count": 16,
   "id": "romantic-buyer",
   "metadata": {},
   "outputs": [],
   "source": [
    "def space_det(url):\n",
    "    text = requests.get(url).text\n",
    "    soup = BeautifulSoup(text, 'lxml')\n",
    "    try:\n",
    "        name= soup.find('h1', class_ ='h1').text.replace('|','')\n",
    "    except:\n",
    "        name = 'Unknown'\n",
    "    try:\n",
    "        brand = soup.find('div', class_='product-manufacturer').a.img.get('alt')\n",
    "        brand_logo = soup.find('div', class_='product-manufacturer').a.img.get('src')\n",
    "    except:\n",
    "        brand = 'Unknown'\n",
    "        brand_logo = 'None'\n",
    "    try:\n",
    "        price= soup.find('div', class_ ='current-price').span.text\n",
    "        price = priceConv(price)\n",
    "    except:\n",
    "        price = 0\n",
    "    try:\n",
    "        stock = soup.find('div', class_ = 'product-quantities').label.text\n",
    "    except:\n",
    "        stock = 'épuise'\n",
    "    try:\n",
    "        sku = soup.find('div', class_ = 'product-reference').span.text.strip()\n",
    "    except:\n",
    "        sku = 'None'\n",
    "    try:    \n",
    "        des = soup.find('div', class_ = 'product-des').p.text.strip()\n",
    "    except:\n",
    "        des='None'\n",
    "    article ={\n",
    "          'name':name,\n",
    "          'brand': brand,\n",
    "          'brand_logo':brand_logo,\n",
    "          'price': price,\n",
    "          'stock': stock,\n",
    "          'sku': sku,\n",
    "          'des': des,\n",
    "      }\n",
    "    return article"
   ]
  },
  {
   "cell_type": "code",
   "execution_count": 17,
   "id": "occupational-keeping",
   "metadata": {},
   "outputs": [],
   "source": [
    "def next_url(url, x):\n",
    "    if(x == 1):\n",
    "        url=url+'?page='+str(x)\n",
    "    else:\n",
    "        url=url[:-1]\n",
    "        if(x>10):\n",
    "            url=url[:-1]\n",
    "        url=url+str(x)\n",
    "    web = requests.get(url)\n",
    "    parse = BeautifulSoup(web.content, 'html.parser')\n",
    "    if(parse.find('section', class_='page-content page-not-found')):\n",
    "        return False  \n",
    "\n",
    "    return url"
   ]
  },
  {
   "cell_type": "code",
   "execution_count": null,
   "id": "moderate-agreement",
   "metadata": {},
   "outputs": [
    {
     "name": "stdout",
     "output_type": "stream",
     "text": [
      "https://spacenet.tn/categorie/18-vente-ordinateur-portable-tunisie?page=1\n",
      "https://spacenet.tn/categorie/18-vente-ordinateur-portable-tunisie?page=2\n",
      "https://spacenet.tn/categorie/18-vente-ordinateur-portable-tunisie?page=3\n",
      "https://spacenet.tn/categorie/18-vente-ordinateur-portable-tunisie?page=4\n",
      "https://spacenet.tn/categorie/18-vente-ordinateur-portable-tunisie?page=5\n",
      "https://spacenet.tn/categorie/18-vente-ordinateur-portable-tunisie?page=6\n",
      "https://spacenet.tn/categorie/18-vente-ordinateur-portable-tunisie?page=7\n",
      "https://spacenet.tn/categorie/18-vente-ordinateur-portable-tunisie?page=8\n",
      "https://spacenet.tn/categorie/18-vente-ordinateur-portable-tunisie?page=9\n",
      "https://spacenet.tn/categorie/18-vente-ordinateur-portable-tunisie?page=10\n",
      "https://spacenet.tn/categorie/18-vente-ordinateur-portable-tunisie?page=11\n",
      "https://spacenet.tn/categorie/18-vente-ordinateur-portable-tunisie?page=12\n",
      "https://spacenet.tn/categorie/18-vente-ordinateur-portable-tunisie?page=13\n",
      "https://spacenet.tn/categorie/18-vente-ordinateur-portable-tunisie?page=14\n",
      "https://spacenet.tn/categorie/18-vente-ordinateur-portable-tunisie?page=15\n",
      "https://spacenet.tn/categorie/18-vente-ordinateur-portable-tunisie?page=16\n"
     ]
    }
   ],
   "source": [
    "# mycursor = mydb.cursor()\n",
    "list = spacenet_links()\n",
    "for l in list:\n",
    "    info = l['info']\n",
    "    link = l['link']\n",
    "    categorieAdd(info, link, 23)\n",
    "    supCatId=getCagId(info,23)\n",
    "    web = requests.get(link)\n",
    "    parse = BeautifulSoup(web.content, 'html.parser')\n",
    "    for x in range(1, 31):\n",
    "        link= next_url(link,x)\n",
    "        print(link)\n",
    "        if(not(link == False)):\n",
    "            web = requests.get(link)\n",
    "            parse = BeautifulSoup(web.content, 'html.parser')\n",
    "            card= parse.find_all('div', class_='item col-xs-12 col-sm-6 col-md-6 col-lg-3')\n",
    "            for c in card:\n",
    "                img= c.find('span', class_='cover_image').img['src']\n",
    "                det_link= c.find('div', class_='product_name').a['href']\n",
    "                det=space_det(det_link)\n",
    "                brandAdd(det['brand'], det['brand_logo'], 23)\n",
    "                supBrandId=getBrandId(det['brand'], 23)\n",
    "                prodId=AddProduct(det['name'], det_link, det['sku'], det['des'], det['price'], det['stock'], 23, supBrandId, supCatId, img)\n",
    "        else:\n",
    "            break  "
   ]
  },
  {
   "cell_type": "code",
   "execution_count": null,
   "id": "amateur-aviation",
   "metadata": {},
   "outputs": [],
   "source": []
  }
 ],
 "metadata": {
  "kernelspec": {
   "display_name": "Python 3",
   "language": "python",
   "name": "python3"
  },
  "language_info": {
   "codemirror_mode": {
    "name": "ipython",
    "version": 3
   },
   "file_extension": ".py",
   "mimetype": "text/x-python",
   "name": "python",
   "nbconvert_exporter": "python",
   "pygments_lexer": "ipython3",
   "version": "3.7.4"
  }
 },
 "nbformat": 4,
 "nbformat_minor": 5
}
